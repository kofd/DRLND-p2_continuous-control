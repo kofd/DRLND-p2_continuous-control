{
 "cells": [
  {
   "cell_type": "markdown",
   "metadata": {},
   "source": [
    "# Continuous Control\n",
    "\n",
    "This is the report for the Continuous Control lab on the Udacity DRLND. It trains an agent using a DDPG model.\n",
    "\n",
    "## 1. Install and Start the Environment"
   ]
  },
  {
   "cell_type": "code",
   "execution_count": null,
   "metadata": {
    "scrolled": true
   },
   "outputs": [],
   "source": [
    "!pip install unityagents"
   ]
  },
  {
   "cell_type": "code",
   "execution_count": 2,
   "metadata": {},
   "outputs": [
    {
     "name": "stderr",
     "output_type": "stream",
     "text": [
      "INFO:unityagents:\n",
      "'Academy' started successfully!\n",
      "Unity Academy name: Academy\n",
      "        Number of Brains: 1\n",
      "        Number of External Brains : 1\n",
      "        Lesson number : 0\n",
      "        Reset Parameters :\n",
      "\t\tgoal_speed -> 1.0\n",
      "\t\tgoal_size -> 5.0\n",
      "Unity brain name: ReacherBrain\n",
      "        Number of Visual Observations (per agent): 0\n",
      "        Vector Observation space type: continuous\n",
      "        Vector Observation space size (per agent): 33\n",
      "        Number of stacked Vector Observation: 1\n",
      "        Vector Action space type: continuous\n",
      "        Vector Action space size (per agent): 4\n",
      "        Vector Action descriptions: , , , \n"
     ]
    },
    {
     "name": "stdout",
     "output_type": "stream",
     "text": [
      "Number of agents: 20\n",
      "Size of each action: 4\n",
      "There are 20 agents. Each observes a state with length: 33\n",
      "The state for the first agent looks like: [  0.00000000e+00  -4.00000000e+00   0.00000000e+00   1.00000000e+00\n",
      "  -0.00000000e+00  -0.00000000e+00  -4.37113883e-08   0.00000000e+00\n",
      "   0.00000000e+00   0.00000000e+00   0.00000000e+00   0.00000000e+00\n",
      "   0.00000000e+00   0.00000000e+00  -1.00000000e+01   0.00000000e+00\n",
      "   1.00000000e+00  -0.00000000e+00  -0.00000000e+00  -4.37113883e-08\n",
      "   0.00000000e+00   0.00000000e+00   0.00000000e+00   0.00000000e+00\n",
      "   0.00000000e+00   0.00000000e+00   5.75471878e+00  -1.00000000e+00\n",
      "   5.55726624e+00   0.00000000e+00   1.00000000e+00   0.00000000e+00\n",
      "  -1.68164849e-01]\n"
     ]
    }
   ],
   "source": [
    "from unityagents import UnityEnvironment\n",
    "import numpy as np\n",
    "\n",
    "# select this option to load version 1 (with a single agent) of the environment\n",
    "# env = UnityEnvironment(file_name='/data/Reacher_One_Linux_NoVis/Reacher_One_Linux_NoVis.x86_64')\n",
    "\n",
    "# select this option to load version 2 (with 20 agents) of the environment\n",
    "env = UnityEnvironment(file_name='/data/Reacher_Linux_NoVis/Reacher.x86_64')\n",
    "\n",
    "# get the default brain\n",
    "brain_name = env.brain_names[0]\n",
    "brain = env.brains[brain_name]\n",
    "\n",
    "# reset the environment\n",
    "env_info = env.reset(train_mode=True)[brain_name]\n",
    "\n",
    "# number of agents\n",
    "num_agents = len(env_info.agents)\n",
    "print('Number of agents:', num_agents)\n",
    "\n",
    "# size of each action\n",
    "action_size = brain.vector_action_space_size\n",
    "print('Size of each action:', action_size)\n",
    "\n",
    "# examine the state space \n",
    "states = env_info.vector_observations\n",
    "state_size = states.shape[1]\n",
    "print('There are {} agents. Each observes a state with length: {}'.format(states.shape[0], state_size))\n",
    "print('The state for the first agent looks like:', states[0])"
   ]
  },
  {
   "cell_type": "markdown",
   "metadata": {},
   "source": [
    "## Train the Model\n",
    "\n",
    "The agent is a ddpg agent taken from ddpg2.py. The actor network is a 3 layer fully connected model with batch normalization and the critic is also a 3 layer fully connected model with batch normalization. More complex models has very poor performance, overparameterization likely causing early instability. It uses an agent modified from an example project in the class, with a much larger buffer size, removed noise, and adjusted model structures. The reward is also multiplied by 0.1 to stablize the mse error signal. I'm not sure why but the environment fit much slower than the walkthrough. As suggested the model fits 10 times every 20 steps. The model converges to the solution after ~340 episodes and stays at this level for 100 steps before training terminated.\n",
    "\n",
    "The algorithm does not rely on any additional noise parameter, it uses the randomality contained in the initialization of the model parameters. The weights are updated with a ddpg pattern, modelling Q learning but instead of generating a value for every possible action, simply produces a gradient to update the on policy action by propogating the gradient maximizing the expected future reward from a separate critic network. The model keeps a replay buffer to store past experiences, as the algorithm is capable of off-policy learning. In this case the replay buffer is of size 1000000, and does not implement prioritized replay as it demonstrated a negative effect on convergence. The ddpg algorithm works by having 2 networks, an actor and critic network (plus 2 target networks that get soft updated periodically), the actor mapping a state onto a continuous action, and the critic mapping a state action pair onto a Q value. The agent then collects experiences from acting in the environment using the policy defined by the actor and possibly some noise, then the actor and critic networks are updated in batch using a replay buffer, the critic being updated by mapping a state action pair onto the target network's value of the next state and next state's best action pair. The actor then updates its policy from the gradient maximizing the critic's estimated value of its generated action for that state. While not critical, the replay buffer allows the previous experiences to be preserved and learned from, leading to more stable learning and higher sample efficiency. A noise process might be useful in some cases where the agent cannot explore the entire environment with the initialization parameters, especially since the policy is deterministic."
   ]
  },
  {
   "cell_type": "code",
   "execution_count": 3,
   "metadata": {
    "scrolled": false
   },
   "outputs": [
    {
     "name": "stdout",
     "output_type": "stream",
     "text": [
      "Episode 10\tAverage Score: 0.64 (0.64)\n",
      "Episode 20\tAverage Score: 1.03 (1.42)\n",
      "Episode 30\tAverage Score: 1.07 (1.15)\n",
      "Episode 40\tAverage Score: 1.21 (1.62)\n",
      "Episode 50\tAverage Score: 1.28 (1.57)\n",
      "Episode 60\tAverage Score: 1.41 (2.05)\n",
      "Episode 70\tAverage Score: 1.49 (1.99)\n",
      "Episode 80\tAverage Score: 1.56 (2.01)\n",
      "Episode 90\tAverage Score: 1.65 (2.35)\n",
      "Episode 100\tAverage Score: 1.71 (2.30)\n",
      "Episode 110\tAverage Score: 1.79 (1.40)\n",
      "Episode 120\tAverage Score: 1.76 (1.13)\n",
      "Episode 130\tAverage Score: 1.79 (1.44)\n",
      "Episode 140\tAverage Score: 1.84 (2.14)\n",
      "Episode 150\tAverage Score: 1.93 (2.48)\n",
      "Episode 160\tAverage Score: 2.04 (3.15)\n",
      "Episode 170\tAverage Score: 2.19 (3.49)\n",
      "Episode 180\tAverage Score: 2.37 (3.81)\n",
      "Episode 190\tAverage Score: 2.56 (4.27)\n",
      "Episode 200\tAverage Score: 2.73 (3.99)\n",
      "Episode 210\tAverage Score: 3.03 (4.35)\n",
      "Episode 220\tAverage Score: 3.41 (4.93)\n",
      "Episode 230\tAverage Score: 3.83 (5.65)\n",
      "Episode 240\tAverage Score: 4.29 (6.74)\n",
      "Episode 250\tAverage Score: 4.83 (7.94)\n",
      "Episode 260\tAverage Score: 5.33 (8.08)\n",
      "Episode 270\tAverage Score: 5.78 (8.03)\n",
      "Episode 280\tAverage Score: 6.37 (9.67)\n",
      "Episode 290\tAverage Score: 6.98 (10.36)\n",
      "Episode 300\tAverage Score: 7.74 (11.65)\n",
      "Episode 310\tAverage Score: 8.58 (12.69)\n",
      "Episode 320\tAverage Score: 9.44 (13.57)\n",
      "Episode 330\tAverage Score: 10.30 (14.29)\n",
      "Episode 340\tAverage Score: 11.20 (15.75)\n",
      "Episode 350\tAverage Score: 12.09 (16.80)\n",
      "Episode 360\tAverage Score: 13.43 (21.45)\n",
      "Episode 370\tAverage Score: 15.23 (26.08)\n",
      "Episode 380\tAverage Score: 17.37 (31.08)\n",
      "Episode 390\tAverage Score: 19.62 (32.87)\n",
      "Episode 400\tAverage Score: 21.81 (33.52)\n",
      "Episode 410\tAverage Score: 23.77 (32.29)\n",
      "Episode 420\tAverage Score: 26.03 (36.16)\n",
      "Episode 430\tAverage Score: 28.40 (37.97)\n",
      "Episode 438\tAverage Score: 30.15 (37.20)\n",
      "Environment fit in 338 episodes!\tAverage Score: 30.15\n"
     ]
    },
    {
     "ename": "AttributeError",
     "evalue": "'Agent' object has no attribute 'qnetwork_local'",
     "output_type": "error",
     "traceback": [
      "\u001b[0;31m---------------------------------------------------------------------------\u001b[0m",
      "\u001b[0;31mAttributeError\u001b[0m                            Traceback (most recent call last)",
      "\u001b[0;32m<ipython-input-3-4a9b22964372>\u001b[0m in \u001b[0;36m<module>\u001b[0;34m()\u001b[0m\n\u001b[1;32m     44\u001b[0m     \u001b[0;32mif\u001b[0m \u001b[0mnp\u001b[0m\u001b[0;34m.\u001b[0m\u001b[0mmean\u001b[0m\u001b[0;34m(\u001b[0m\u001b[0mscores_window\u001b[0m\u001b[0;34m)\u001b[0m \u001b[0;34m>\u001b[0m \u001b[0;36m30\u001b[0m\u001b[0;34m:\u001b[0m\u001b[0;34m\u001b[0m\u001b[0m\n\u001b[1;32m     45\u001b[0m         \u001b[0mprint\u001b[0m\u001b[0;34m(\u001b[0m\u001b[0;34m'\\nEnvironment fit in {:d} episodes!\\tAverage Score: {:.2f}'\u001b[0m\u001b[0;34m.\u001b[0m\u001b[0mformat\u001b[0m\u001b[0;34m(\u001b[0m\u001b[0mi_episode\u001b[0m\u001b[0;34m-\u001b[0m\u001b[0;36m100\u001b[0m\u001b[0;34m,\u001b[0m \u001b[0mnp\u001b[0m\u001b[0;34m.\u001b[0m\u001b[0mmean\u001b[0m\u001b[0;34m(\u001b[0m\u001b[0mscores_window\u001b[0m\u001b[0;34m)\u001b[0m\u001b[0;34m)\u001b[0m\u001b[0;34m)\u001b[0m\u001b[0;34m\u001b[0m\u001b[0m\n\u001b[0;32m---> 46\u001b[0;31m         \u001b[0mtorch\u001b[0m\u001b[0;34m.\u001b[0m\u001b[0msave\u001b[0m\u001b[0;34m(\u001b[0m\u001b[0magent\u001b[0m\u001b[0;34m.\u001b[0m\u001b[0mqnetwork_local\u001b[0m\u001b[0;34m.\u001b[0m\u001b[0mstate_dict\u001b[0m\u001b[0;34m(\u001b[0m\u001b[0;34m)\u001b[0m\u001b[0;34m,\u001b[0m \u001b[0;34m'checkpoint.pth'\u001b[0m\u001b[0;34m)\u001b[0m\u001b[0;34m\u001b[0m\u001b[0m\n\u001b[0m\u001b[1;32m     47\u001b[0m         \u001b[0;32mbreak\u001b[0m\u001b[0;34m\u001b[0m\u001b[0m\n\u001b[1;32m     48\u001b[0m \u001b[0;34m\u001b[0m\u001b[0m\n",
      "\u001b[0;31mAttributeError\u001b[0m: 'Agent' object has no attribute 'qnetwork_local'"
     ]
    }
   ],
   "source": [
    "from ddpg2 import Agent\n",
    "from collections import deque\n",
    "import torch\n",
    "from torch import optim\n",
    "from time import time\n",
    "\n",
    "gamma = .99\n",
    "n_episodes = 2000\n",
    "max_t = 10000\n",
    "agent = Agent(state_size, action_size, buffer_size=int(1e6), batch_size=128, lra=0.0002, lrc=0.0002)\n",
    "\n",
    "# keep track of progress    \n",
    "scores = []                        # list containing scores from each episode\n",
    "scores_window = deque(maxlen=100) \n",
    "adj_scores_window = deque(maxlen=10)\n",
    "for i_episode in range(1, n_episodes+1):\n",
    "    env_info = env.reset(train_mode=True)[brain_name]  # reset the environment\n",
    "    state = env_info.vector_observations               # get the current state\n",
    "    score = np.zeros(len(state), dtype=float)\n",
    "    adj_score = np.zeros(len(state), dtype=float)\n",
    "    agent.reset()\n",
    "    for t in range(max_t):\n",
    "        action = agent.act(state, False)\n",
    "        env_info = env.step(action)[brain_name]        # send the action to the environment\n",
    "        next_state = env_info.vector_observations      # get the next state\n",
    "        reward = env_info.rewards                    # get the reward\n",
    "        adj_reward = reward# + np.mean(np.power(action, 2), 1) * torque_reward \n",
    "        done = env_info.local_done                     # see if episode has finished\n",
    "        agent.step(state, action, adj_reward, next_state, done)\n",
    "        if t % 20 == 0:\n",
    "            for _ in range(10):\n",
    "                agent.learn(gamma)\n",
    "        state = next_state\n",
    "        score += reward\n",
    "        adj_score += adj_reward\n",
    "        if any(done):\n",
    "            break \n",
    "    scores_window.append(np.mean(score))       # save most recent score\n",
    "    adj_scores_window.append(np.mean(adj_score))\n",
    "    scores.append(score)              # save most recent score\n",
    "    print('\\rEpisode {}\\tAverage Score: {:.2f} ({:.2f})'.format(i_episode, np.mean(scores_window), np.mean(adj_scores_window)), end=\"\")\n",
    "    if i_episode % 10 == 0:\n",
    "        print('\\rEpisode {}\\tAverage Score: {:.2f} ({:.2f})'.format(i_episode, np.mean(scores_window), np.mean(adj_scores_window)))\n",
    "    if np.mean(scores_window) > 30:\n",
    "        print('\\nEnvironment fit in {:d} episodes!\\tAverage Score: {:.2f}'.format(i_episode-100, np.mean(scores_window)))\n",
    "        torch.save(agent.actor_local.state_dict(), 'checkpoint.pth')\n",
    "        break\n",
    "\n",
    "torch.save(agent.actor_local.state_dict(), 'checkpoint.pth')"
   ]
  },
  {
   "cell_type": "code",
   "execution_count": 5,
   "metadata": {},
   "outputs": [],
   "source": [
    "torch.save(agent.actor_local.state_dict(), 'checkpoint.pth')"
   ]
  },
  {
   "cell_type": "code",
   "execution_count": null,
   "metadata": {},
   "outputs": [],
   "source": [
    "!pip install matplotlib"
   ]
  },
  {
   "cell_type": "code",
   "execution_count": 7,
   "metadata": {},
   "outputs": [
    {
     "data": {
      "image/png": "[encoded data removed]",
      "text/plain": [
       "<matplotlib.figure.Figure at 0x7f3cac37e208>"
      ]
     },
     "metadata": {
      "needs_background": "light"
     },
     "output_type": "display_data"
    }
   ],
   "source": [
    "import matplotlib.pyplot as plt\n",
    "%matplotlib inline\n",
    "\n",
    "\n",
    "plt.ion()\n",
    "\n",
    "# plot the scores\n",
    "fig = plt.figure()\n",
    "ax = fig.add_subplot(111)\n",
    "plt.plot(np.arange(len(scores)), scores)\n",
    "plt.ylabel('Score')\n",
    "plt.xlabel('Episode #')\n",
    "plt.show()"
   ]
  },
  {
   "cell_type": "markdown",
   "metadata": {},
   "source": [
    "## Result\n",
    "\n",
    "The agent was tested and acheived an average score of 38.77"
   ]
  },
  {
   "cell_type": "code",
   "execution_count": 8,
   "metadata": {},
   "outputs": [
    {
     "name": "stdout",
     "output_type": "stream",
     "text": [
      "Total score (averaged over agents) this episode: 38.77549913330004\n"
     ]
    }
   ],
   "source": [
    "env_info = env.reset(train_mode=False)[brain_name]     # reset the environment    \n",
    "states = env_info.vector_observations                  # get the current state (for each agent)\n",
    "scores = np.zeros(num_agents)                          # initialize the score (for each agent)\n",
    "while True:\n",
    "    actions = agent.act(states) # select an action (for each agent)\n",
    "    actions = np.clip(actions, -1, 1)                  # all actions between -1 and 1\n",
    "    env_info = env.step(actions)[brain_name]           # send all actions to tne environment\n",
    "    next_states = env_info.vector_observations         # get next state (for each agent)\n",
    "    rewards = env_info.rewards                         # get reward (for each agent)\n",
    "    dones = env_info.local_done                        # see if episode finished\n",
    "    scores += env_info.rewards                         # update the score (for each agent)\n",
    "    states = next_states                               # roll over states to next time step\n",
    "    if np.any(dones):                                  # exit loop if episode finished\n",
    "        break\n",
    "print('Total score (averaged over agents) this episode: {}'.format(np.mean(scores)))"
   ]
  },
  {
   "cell_type": "markdown",
   "metadata": {},
   "source": [
    "## Future Improvements\n",
    "\n",
    "Potential improvements include adding a prioritized replay buffer, adding stochastisity to the models for capturing uncertainty, using random network distilation to improve its early exploration, and adding shared weights for featurization of the state. A further exploration through model architectures and hyperparameters may be necessary as the performance of this model doesn't seem to be similar to the benchmark."
   ]
  },
  {
   "cell_type": "code",
   "execution_count": null,
   "metadata": {},
   "outputs": [],
   "source": []
  }
 ],
 "metadata": {
  "kernelspec": {
   "display_name": "Python 3",
   "language": "python",
   "name": "python3"
  },
  "language_info": {
   "codemirror_mode": {
    "name": "ipython",
    "version": 3
   },
   "file_extension": ".py",
   "mimetype": "text/x-python",
   "name": "python",
   "nbconvert_exporter": "python",
   "pygments_lexer": "ipython3",
   "version": "3.6.5"
  }
 },
 "nbformat": 4,
 "nbformat_minor": 2
}
